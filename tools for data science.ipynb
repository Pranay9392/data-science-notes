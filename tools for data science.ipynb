{
 "cells": [
  {
   "cell_type": "markdown",
   "metadata": {},
   "source": [
    "Data Science Tools Notebook"
   ]
  },
  {
   "cell_type": "markdown",
   "metadata": {},
   "source": [
    "Introduction:\n",
    "This notebook showcases various data science tools, languages, and libraries commonly used in the field of data science.\n"
   ]
  },
  {
   "cell_type": "markdown",
   "metadata": {},
   "source": [
    "Data Science Languages:\n",
    "- Python\n",
    "- R\n",
    "- SQL"
   ]
  },
  {
   "cell_type": "markdown",
   "metadata": {},
   "source": [
    "Data Science Libraries\n",
    "- NumPy\n",
    "- Pandas\n",
    "- Matplotlib\n",
    "- Seaborn\n",
    "- Scikit-learn"
   ]
  },
  {
   "cell_type": "markdown",
   "metadata": {},
   "source": [
    "Data Science Tools Table\n",
    "\n",
    "| Tool                 | Description                       |\n",
    "|----------------------|-----------------------------------|\n",
    "| Jupyter Notebook     | Interactive data analysis         |\n",
    "| RStudio              | Integrated development environment for R |\n",
    "| SQL Databases        | Storage and retrieval of structured data |\n",
    "| Git and GitHub       | Version control and collaboration  |\n",
    "| Anaconda             | Python distribution with data science packages |\n",
    "| Tableau              | Data visualization and business intelligence |\n",
    "| Power BI            | Business analytics and data visualization |\n",
    "| TensorFlow           | Machine learning and deep learning framework |"
   ]
  },
  {
   "cell_type": "markdown",
   "metadata": {},
   "source": [
    "Arithmetic Expressions\n",
    "In this section, we will demonstrate basic arithmetic operations."
   ]
  },
  {
   "cell_type": "code",
   "execution_count": 1,
   "metadata": {},
   "outputs": [
    {
     "name": "stdout",
     "output_type": "stream",
     "text": [
      "20\n"
     ]
    }
   ],
   "source": [
    "# Multiplication\n",
    "result_multiply = 5 * 4\n",
    "print(result_multiply)\n",
    "\n",
    "# Addition\n",
    "result_add = 7 + 3\n",
    "print(result_add)"
   ]
  },
  {
   "cell_type": "code",
   "execution_count": 1,
   "metadata": {},
   "outputs": [
    {
     "name": "stdout",
     "output_type": "stream",
     "text": [
      "2.0 hours\n"
     ]
    }
   ],
   "source": [
    "# Conversion of minutes to hours\n",
    "minutes = 120\n",
    "hours = minutes / 60\n",
    "print(hours,\"hours\")"
   ]
  },
  {
   "cell_type": "markdown",
   "metadata": {},
   "source": [
    "Objectives:\n",
    "1.Explore data science tools and languages.\n",
    "2.Perform basic arithmetic operations.\n",
    "3.Understand how to convert minutes to hours."
   ]
  },
  {
   "cell_type": "markdown",
   "metadata": {},
   "source": [
    "Author:\n",
    "ALETTI PRANAY"
   ]
  }
 ],
 "metadata": {
  "kernelspec": {
   "display_name": "Python 3",
   "language": "python",
   "name": "python3"
  },
  "language_info": {
   "codemirror_mode": {
    "name": "ipython",
    "version": 3
   },
   "file_extension": ".py",
   "mimetype": "text/x-python",
   "name": "python",
   "nbconvert_exporter": "python",
   "pygments_lexer": "ipython3",
   "version": "3.11.3"
  }
 },
 "nbformat": 4,
 "nbformat_minor": 2
}
